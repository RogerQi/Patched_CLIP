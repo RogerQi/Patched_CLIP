{
 "cells": [
  {
   "cell_type": "code",
   "execution_count": null,
   "id": "fdbc52b8",
   "metadata": {},
   "outputs": [],
   "source": [
    "from PIL import Image\n",
    "import os\n",
    "import numpy as np\n",
    "import torch\n",
    "from tqdm import tqdm, trange"
   ]
  },
  {
   "cell_type": "code",
   "execution_count": null,
   "id": "86f8fb5b",
   "metadata": {
    "scrolled": true
   },
   "outputs": [],
   "source": [
    "from patched_clip.patched_clip import CLIP_args, get_clip_embeddings, load_clip"
   ]
  },
  {
   "cell_type": "code",
   "execution_count": null,
   "id": "b56a4a58",
   "metadata": {},
   "outputs": [],
   "source": [
    "model, preprocess = load_clip()\n",
    "device = CLIP_args.device"
   ]
  },
  {
   "cell_type": "code",
   "execution_count": null,
   "id": "4b4adbb0",
   "metadata": {},
   "outputs": [],
   "source": [
    "def is_valid_image(filename):\n",
    "    ext_test_flag = any(filename.lower().endswith(extension) for extension in ['.png', '.jpg', '.jpeg'])\n",
    "    is_file_flag = os.path.isfile(filename)\n",
    "    return ext_test_flag and is_file_flag"
   ]
  },
  {
   "cell_type": "code",
   "execution_count": null,
   "id": "e3b12551-0f1a-4cea-bd46-3f9129330166",
   "metadata": {},
   "outputs": [],
   "source": [
    "image_dir = '/home/roger/gaussian_feature/feat_data/bulldozer_sample/images'\n",
    "image_paths = [os.path.join(image_dir, fn) for fn in os.listdir(image_dir)]\n",
    "image_paths = [fn for fn in image_paths if is_valid_image(fn)]\n",
    "\n",
    "target_feat_dir = '/home/roger/gaussian_feature/feat_data/bulldozer_sample/clip_features'\n",
    "os.makedirs(target_feat_dir, exist_ok=True)\n",
    "\n",
    "output_paths = []\n",
    "for image_path in image_paths:\n",
    "    feat_fn = os.path.splitext(os.path.basename(image_path))[0] + '.npy'\n",
    "    feat_path = os.path.join(target_feat_dir, feat_fn)\n",
    "    output_paths.append(feat_path)\n"
   ]
  },
  {
   "cell_type": "code",
   "execution_count": null,
   "id": "2bd60508",
   "metadata": {},
   "outputs": [],
   "source": [
    "high_res_feature = True\n",
    "\n",
    "# Get CLIP embeddings\n",
    "for i in trange(len(image_paths)):\n",
    "    with torch.no_grad():\n",
    "        image_pil = Image.open(image_paths[i])\n",
    "        descriptors = get_clip_embeddings([image_pil],\n",
    "                                          to_cpu=False,\n",
    "                                          model=model,\n",
    "                                          preprocess=preprocess,\n",
    "                                          skip_center_crop=high_res_feature)\n",
    "        descriptors = descriptors.to(device)  # BCHW\n",
    "        descriptors = descriptors.cpu().squeeze().numpy()\n",
    "        np.save(output_paths[i], descriptors)"
   ]
  },
  {
   "cell_type": "code",
   "execution_count": null,
   "id": "d63aa372-4035-43fb-909c-617041fd71f6",
   "metadata": {},
   "outputs": [],
   "source": []
  }
 ],
 "metadata": {
  "kernelspec": {
   "display_name": "Python 3 (ipykernel)",
   "language": "python",
   "name": "python3"
  },
  "language_info": {
   "codemirror_mode": {
    "name": "ipython",
    "version": 3
   },
   "file_extension": ".py",
   "mimetype": "text/x-python",
   "name": "python",
   "nbconvert_exporter": "python",
   "pygments_lexer": "ipython3",
   "version": "3.8.18"
  }
 },
 "nbformat": 4,
 "nbformat_minor": 5
}
