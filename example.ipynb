{
 "cells": [
  {
   "cell_type": "code",
   "execution_count": 1,
   "id": "63b89100",
   "metadata": {},
   "outputs": [],
   "source": [
    "from PIL import Image\n",
    "import os\n",
    "import torch\n",
    "import matplotlib.pyplot as plt"
   ]
  },
  {
   "cell_type": "code",
   "execution_count": 2,
   "id": "48073ede",
   "metadata": {
    "scrolled": true
   },
   "outputs": [],
   "source": [
    "from patched_clip.patched_clip import CLIP_args, get_clip_embeddings, load_clip, save_clip_embeddings"
   ]
  },
  {
   "cell_type": "code",
   "execution_count": 3,
   "id": "35c0f11b",
   "metadata": {},
   "outputs": [],
   "source": [
    "image_paths = ['test.jpg']\n",
    "device = 'cpu'"
   ]
  },
  {
   "cell_type": "code",
   "execution_count": 4,
   "id": "5b19fc86",
   "metadata": {},
   "outputs": [
    {
     "name": "stdout",
     "output_type": "stream",
     "text": [
      "\u001b[31mML_LOGGER_USER is not set. This is required for online usage.\u001b[0m\n",
      "timing <load_clip_model>: \u001b[32m4.571E+00s\u001b[0m\n",
      "timing <clip_preprocess_images>: \u001b[32m1.946E-01s\u001b[0m\n",
      "timing <get_clip_embeddings>: \u001b[32m1.096E+00s\u001b[0m\n",
      "clip_process_image_mean_time: 1.2925954579986865\n"
     ]
    }
   ],
   "source": [
    "# CLIP_args.clip_model_name = CLIPArgs.model_type\n",
    "# CLIP_args.device = device\n",
    "high_res_feature = True\n",
    "\n",
    "# Load images into pillow images\n",
    "images = [Image.open(image_path) for image_path in image_paths]\n",
    "\n",
    "# Get CLIP embeddings\n",
    "with torch.no_grad():\n",
    "    descriptors = get_clip_embeddings(images, to_cpu=False, skip_center_crop=high_res_feature)\n",
    "    descriptors = descriptors.to(device)\n",
    "\n",
    "embeddings = descriptors.numpy()"
   ]
  },
  {
   "cell_type": "code",
   "execution_count": 4,
   "id": "3e67886d",
   "metadata": {},
   "outputs": [
    {
     "name": "stdout",
     "output_type": "stream",
     "text": [
      "\u001b[31mML_LOGGER_USER is not set. This is required for online usage.\u001b[0m\n",
      "══════════════════════════════════════════\n",
      "\u001b[33m     CLIP_args      \u001b[0m\n",
      "────────────────────┬─────────────────────\n",
      "  clip_model_name   │ ViT-L/14@336px      \n",
      "visualize_embeddings│ True                \n",
      "  visualize_every   │ 5                   \n",
      "     batch_size     │ 64                  \n",
      "       device       │ cpu                 \n",
      "    feature_dir     │ feat                \n",
      "   visualize_dir    │ clip_viz            \n",
      "     patch_size     │ 14                  \n",
      "════════════════════╧═════════════════════\n",
      "Loaded 1 images from list\n",
      "Image resolution is (4032, 3024)\n",
      "timing <load_clip_model>: \u001b[32m4.517E+00s\u001b[0m\n",
      "timing <clip_preprocess_images>: \u001b[32m1.938E-01s\u001b[0m\n",
      "timing <get_clip_embeddings>: \u001b[32m7.632E-01s\u001b[0m\n",
      "clip_process_image_mean_time: 0.958800541004166\n",
      "embedding shape = (1, 768, 24, 24)\n",
      "timing <write_clip_embeddings>: \u001b[32m1.420E-02s\u001b[0m\n",
      "Wrote CLIP embeddings to ./feat/clip.npy\n",
      "\u001b[33mSaved image at figures/test_viz.png.\u001b[0m\n",
      "timing <visualize_clip_embeddings>: \u001b[32m4.846E+00s\u001b[0m\n",
      "Wrote CLIP projection matrix to ./feat/clip_proj.npy\n"
     ]
    },
    {
     "data": {
      "text/plain": [
       "'./feat/clip.npy'"
      ]
     },
     "execution_count": 4,
     "metadata": {},
     "output_type": "execute_result"
    }
   ],
   "source": [
    "save_clip_embeddings(image_paths)"
   ]
  },
  {
   "cell_type": "code",
   "execution_count": 5,
   "id": "2aba886a",
   "metadata": {},
   "outputs": [
    {
     "data": {
      "text/plain": [
       "torch.Size([1, 768, 24, 32])"
      ]
     },
     "execution_count": 5,
     "metadata": {},
     "output_type": "execute_result"
    }
   ],
   "source": [
    "descriptors.shape"
   ]
  },
  {
   "cell_type": "code",
   "execution_count": 6,
   "id": "12f384af",
   "metadata": {},
   "outputs": [],
   "source": [
    "from patched_clip.utils import visualize_embedding_pca"
   ]
  },
  {
   "cell_type": "code",
   "execution_count": 16,
   "id": "5c3c9c3b",
   "metadata": {},
   "outputs": [],
   "source": [
    "model, preprocess = load_clip()"
   ]
  },
  {
   "cell_type": "code",
   "execution_count": 17,
   "id": "dbb41f67",
   "metadata": {},
   "outputs": [
    {
     "data": {
      "text/plain": [
       "Compose(\n",
       "    Resize(size=336, interpolation=bicubic, max_size=None, antialias=warn)\n",
       "    CenterCrop(size=(336, 336))\n",
       "    <function _convert_image_to_rgb at 0x15453ec00>\n",
       "    ToTensor()\n",
       "    Normalize(mean=(0.48145466, 0.4578275, 0.40821073), std=(0.26862954, 0.26130258, 0.27577711))\n",
       ")"
      ]
     },
     "execution_count": 17,
     "metadata": {},
     "output_type": "execute_result"
    }
   ],
   "source": [
    "preprocess"
   ]
  },
  {
   "cell_type": "code",
   "execution_count": 14,
   "id": "e64583b1",
   "metadata": {},
   "outputs": [
    {
     "ename": "ValueError",
     "evalue": "cannot reshape array of size 2304 into shape (24,24,3)",
     "output_type": "error",
     "traceback": [
      "\u001b[0;31m---------------------------------------------------------------------------\u001b[0m",
      "\u001b[0;31mValueError\u001b[0m                                Traceback (most recent call last)",
      "Cell \u001b[0;32mIn[14], line 1\u001b[0m\n\u001b[0;32m----> 1\u001b[0m visualize_embedding_pca(\n\u001b[1;32m      2\u001b[0m                 image_paths,\n\u001b[1;32m      3\u001b[0m                 images,\n\u001b[1;32m      4\u001b[0m                 embeddings,\n\u001b[1;32m      5\u001b[0m                 preprocess\u001b[38;5;241m=\u001b[39mload_clip()[\u001b[38;5;241m1\u001b[39m],\n\u001b[1;32m      6\u001b[0m                 visualize_every\u001b[38;5;241m=\u001b[39mCLIP_args\u001b[38;5;241m.\u001b[39mvisualize_every,\n\u001b[1;32m      7\u001b[0m                 patch_size\u001b[38;5;241m=\u001b[39m\u001b[38;5;241m14\u001b[39m,\n\u001b[1;32m      8\u001b[0m             )\n",
      "File \u001b[0;32m~/Patched_CLIP/patched_clip/utils.py:169\u001b[0m, in \u001b[0;36mvisualize_embedding_pca\u001b[0;34m(image_paths, images, embeddings, preprocess, visualize_every, alpha, show_plot, patch_size)\u001b[0m\n\u001b[1;32m    167\u001b[0m h \u001b[38;5;241m=\u001b[39m image\u001b[38;5;241m.\u001b[39mshape[\u001b[38;5;241m0\u001b[39m] \u001b[38;5;241m/\u001b[39m\u001b[38;5;241m/\u001b[39m patch_size\n\u001b[1;32m    168\u001b[0m w \u001b[38;5;241m=\u001b[39m image\u001b[38;5;241m.\u001b[39mshape[\u001b[38;5;241m1\u001b[39m] \u001b[38;5;241m/\u001b[39m\u001b[38;5;241m/\u001b[39m patch_size\n\u001b[0;32m--> 169\u001b[0m embedding_rgb \u001b[38;5;241m=\u001b[39m embedding_rgb\u001b[38;5;241m.\u001b[39mreshape(h, w, \u001b[38;5;241m3\u001b[39m)\n\u001b[1;32m    170\u001b[0m scaling_factor_h \u001b[38;5;241m=\u001b[39m \u001b[38;5;28mint\u001b[39m((image\u001b[38;5;241m.\u001b[39mshape[\u001b[38;5;241m0\u001b[39m] \u001b[38;5;241m/\u001b[39m h))\n\u001b[1;32m    171\u001b[0m scaling_factor_w \u001b[38;5;241m=\u001b[39m \u001b[38;5;28mint\u001b[39m((image\u001b[38;5;241m.\u001b[39mshape[\u001b[38;5;241m1\u001b[39m] \u001b[38;5;241m/\u001b[39m w))\n",
      "\u001b[0;31mValueError\u001b[0m: cannot reshape array of size 2304 into shape (24,24,3)"
     ]
    }
   ],
   "source": [
    "visualize_embedding_pca(\n",
    "                image_paths,\n",
    "                images,\n",
    "                embeddings,\n",
    "                preprocess=load_clip()[1],\n",
    "                visualize_every=CLIP_args.visualize_every,\n",
    "                patch_size=14,\n",
    "            )"
   ]
  },
  {
   "cell_type": "code",
   "execution_count": null,
   "id": "d2b8bf92",
   "metadata": {},
   "outputs": [],
   "source": []
  },
  {
   "cell_type": "code",
   "execution_count": null,
   "id": "dbf728ed",
   "metadata": {},
   "outputs": [],
   "source": []
  }
 ],
 "metadata": {
  "kernelspec": {
   "display_name": "Python 3 (ipykernel)",
   "language": "python",
   "name": "python3"
  },
  "language_info": {
   "codemirror_mode": {
    "name": "ipython",
    "version": 3
   },
   "file_extension": ".py",
   "mimetype": "text/x-python",
   "name": "python",
   "nbconvert_exporter": "python",
   "pygments_lexer": "ipython3",
   "version": "3.11.3"
  }
 },
 "nbformat": 4,
 "nbformat_minor": 5
}
