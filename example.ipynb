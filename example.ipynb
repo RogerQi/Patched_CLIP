{
 "cells": [
  {
   "cell_type": "code",
   "execution_count": 1,
   "id": "92cfe90b",
   "metadata": {},
   "outputs": [],
   "source": [
    "from PIL import Image\n",
    "import os\n",
    "import torch\n",
    "import matplotlib.pyplot as plt"
   ]
  },
  {
   "cell_type": "code",
   "execution_count": 2,
   "id": "8d72b573",
   "metadata": {
    "scrolled": true
   },
   "outputs": [],
   "source": [
    "from patched_clip.patched_clip import CLIP_args, get_clip_embeddings"
   ]
  },
  {
   "cell_type": "code",
   "execution_count": 3,
   "id": "aba55f29",
   "metadata": {},
   "outputs": [],
   "source": [
    "image_paths = ['test.jpg']\n",
    "device = 'cpu'"
   ]
  },
  {
   "cell_type": "code",
   "execution_count": 4,
   "id": "39174c1d",
   "metadata": {},
   "outputs": [
    {
     "name": "stdout",
     "output_type": "stream",
     "text": [
      "\u001b[31mML_LOGGER_USER is not set. This is required for online usage.\u001b[0m\n",
      "timing <load_clip_model>: \u001b[32m4.989E+00s\u001b[0m\n",
      "timing <clip_preprocess_images>: \u001b[32m2.102E-01s\u001b[0m\n",
      "timing <get_clip_embeddings>: \u001b[32m1.858E+00s\u001b[0m\n",
      "clip_process_image_mean_time: 2.0689631659988663\n"
     ]
    }
   ],
   "source": [
    "# CLIP_args.clip_model_name = CLIPArgs.model_type\n",
    "# CLIP_args.device = device\n",
    "high_res_feature = True\n",
    "\n",
    "# Load images into pillow images\n",
    "images = [Image.open(image_path) for image_path in image_paths]\n",
    "\n",
    "# Get CLIP embeddings\n",
    "with torch.no_grad():\n",
    "    descriptors = get_clip_embeddings(images, to_cpu=False, skip_center_crop=high_res_feature)\n",
    "    descriptors = descriptors.to(device)"
   ]
  },
  {
   "cell_type": "code",
   "execution_count": 5,
   "id": "ab1b2767",
   "metadata": {},
   "outputs": [
    {
     "data": {
      "text/plain": [
       "torch.Size([1, 768, 24, 32])"
      ]
     },
     "execution_count": 5,
     "metadata": {},
     "output_type": "execute_result"
    }
   ],
   "source": [
    "descriptors.shape"
   ]
  },
  {
   "cell_type": "code",
   "execution_count": null,
   "id": "5f5564a9",
   "metadata": {},
   "outputs": [],
   "source": []
  },
  {
   "cell_type": "code",
   "execution_count": null,
   "id": "19345802",
   "metadata": {},
   "outputs": [],
   "source": []
  }
 ],
 "metadata": {
  "kernelspec": {
   "display_name": "Python 3 (ipykernel)",
   "language": "python",
   "name": "python3"
  },
  "language_info": {
   "codemirror_mode": {
    "name": "ipython",
    "version": 3
   },
   "file_extension": ".py",
   "mimetype": "text/x-python",
   "name": "python",
   "nbconvert_exporter": "python",
   "pygments_lexer": "ipython3",
   "version": "3.11.3"
  }
 },
 "nbformat": 4,
 "nbformat_minor": 5
}
